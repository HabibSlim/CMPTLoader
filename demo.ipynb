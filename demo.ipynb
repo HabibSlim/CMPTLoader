{
 "cells": [
  {
   "cell_type": "code",
   "execution_count": null,
   "metadata": {},
   "outputs": [],
   "source": [
    "import matplotlib.pyplot as plt\n",
    "import torch\n",
    "import torchvision.transforms as T\n",
    "import webdataset as wds\n",
    "\n",
    "\n",
    "BASE_URL = './output_tars/2D/'\n",
    "\n",
    "NORM_MEAN = [0.485, 0.456, 0.406]\n",
    "NORM_STD  = [0.229, 0.224, 0.225]\n",
    "\n",
    "\n",
    "def make_transform(mode):\n",
    "    if mode == \"train\":\n",
    "        return T.Compose(\n",
    "            [\n",
    "                # T.RandomHorizontalFlip(),\n",
    "                T.Normalize(NORM_MEAN, NORM_STD)\n",
    "            ]\n",
    "        )\n",
    "    elif mode == \"test\":\n",
    "        return T.Normalize(NORM_MEAN, NORM_STD)\n",
    "\n",
    "\n",
    "def show_tensor(ims):\n",
    "    plt.figure(figsize=(12,12))\n",
    "    f, axarr = plt.subplots(len(ims), 1)\n",
    "    if len(ims) == 1: axarr = [axarr]\n",
    "    for im, ax in zip(ims, axarr):\n",
    "        ax.imshow(torch.squeeze(im).permute(1, 2, 0))"
   ]
  },
  {
   "cell_type": "code",
   "execution_count": null,
   "metadata": {},
   "outputs": [],
   "source": [
    "\"\"\"\n",
    "2D Shape classification dataloader demo.\n",
    "\"\"\"\n",
    "from compatloaders import Compat2DShapeLoader\n",
    "\n",
    "test_loader = (\n",
    "    Compat2DShapeLoader(root_url=BASE_URL, split=\"test\", n_comp=2, transform=make_transform(\"test\"))\n",
    "    .make_loader(batch_size=1, num_workers=1)\n",
    ")\n",
    "\n",
    "for image, target in test_loader:\n",
    "    if image.shape[0] == 1:\n",
    "        show_tensor([image])\n",
    "    print(image.shape)\n",
    "    print(target.shape)\n",
    "    break"
   ]
  },
  {
   "cell_type": "code",
   "execution_count": null,
   "metadata": {},
   "outputs": [],
   "source": [
    "\"\"\"\n",
    "2D Shape segmentation dataloader demo.\n",
    "\"\"\"\n",
    "from compatloaders import Compat2DSegLoader\n",
    "\n",
    "test_loader = (\n",
    "    Compat2DSegLoader(root_url=BASE_URL, split=\"test\", n_comp=2, transform=make_transform(\"test\"))\n",
    "    .make_loader(batch_size=1, num_workers=1)\n",
    ")\n",
    "\n",
    "for image, target, mask, mask_code in test_loader:\n",
    "    if image.shape[0] == 1:\n",
    "        show_tensor([image, mask])\n",
    "    print(mask_code)\n",
    "    break\n"
   ]
  }
 ],
 "metadata": {
  "language_info": {
   "name": "python"
  },
  "orig_nbformat": 4
 },
 "nbformat": 4,
 "nbformat_minor": 2
}
